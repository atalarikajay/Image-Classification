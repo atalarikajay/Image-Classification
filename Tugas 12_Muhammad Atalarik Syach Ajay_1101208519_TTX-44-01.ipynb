{
  "nbformat": 4,
  "nbformat_minor": 0,
  "metadata": {
    "colab": {
      "name": "Untitled2.ipynb",
      "provenance": [],
      "authorship_tag": "ABX9TyNQg32zJxkrXf6UcLWFnrZ/",
      "include_colab_link": true
    },
    "kernelspec": {
      "name": "python3",
      "display_name": "Python 3"
    }
  },
  "cells": [
    {
      "cell_type": "markdown",
      "metadata": {
        "id": "view-in-github",
        "colab_type": "text"
      },
      "source": [
        "<a href=\"https://colab.research.google.com/github/atalarikajay/Image-Classification/blob/main/Tugas%2012_Muhammad%20Atalarik%20Syach%20Ajay_1101208519_TTX-44-01.ipynb\" target=\"_parent\"><img src=\"https://colab.research.google.com/assets/colab-badge.svg\" alt=\"Open In Colab\"/></a>"
      ]
    },
    {
      "cell_type": "code",
      "metadata": {
        "id": "V1zj5bkNlQoq"
      },
      "source": [
        "import numpy as np"
      ],
      "execution_count": 1,
      "outputs": []
    },
    {
      "cell_type": "code",
      "metadata": {
        "id": "H3Gi5Uq3lnkx"
      },
      "source": [
        "NtL = lambda x: 10*np.log10(x)"
      ],
      "execution_count": 2,
      "outputs": []
    },
    {
      "cell_type": "code",
      "metadata": {
        "colab": {
          "base_uri": "https://localhost:8080/"
        },
        "id": "86N4FYMSlnrR",
        "outputId": "e023400d-82fa-4f19-f461-ea7be827eed0"
      },
      "source": [
        "z=NtL(1)\r\n",
        "print(z)"
      ],
      "execution_count": 3,
      "outputs": [
        {
          "output_type": "stream",
          "text": [
            "0.0\n"
          ],
          "name": "stdout"
        }
      ]
    },
    {
      "cell_type": "code",
      "metadata": {
        "id": "QprjGJoelnt-"
      },
      "source": [
        "LtN = lambda x: 10**(x/10)"
      ],
      "execution_count": 4,
      "outputs": []
    },
    {
      "cell_type": "code",
      "metadata": {
        "colab": {
          "base_uri": "https://localhost:8080/"
        },
        "id": "Ae3K380jlnwm",
        "outputId": "8735b48e-202b-4155-f6a6-44a05fe954ed"
      },
      "source": [
        "y=LtN(0)\r\n",
        "print(y)"
      ],
      "execution_count": 5,
      "outputs": [
        {
          "output_type": "stream",
          "text": [
            "1.0\n"
          ],
          "name": "stdout"
        }
      ]
    },
    {
      "cell_type": "code",
      "metadata": {
        "colab": {
          "base_uri": "https://localhost:8080/"
        },
        "id": "WVo71gvxlnzn",
        "outputId": "aed5ba6e-54b4-4188-9102-cd89caefe7ef"
      },
      "source": [
        "Lp = 46.3 + (33.9*np.log10(1800)) - (13.83*np.log10(100)) - ((((1.1*np.log10(1800))-0.7)*10) - ((1.56*np.log10(1800))-0.8)) + ((44.9-(6.55*np.log10(100)))*np.log10(10)) + 0\r\n",
        "print(Lp)"
      ],
      "execution_count": 6,
      "outputs": [
        {
          "output_type": "stream",
          "text": [
            "136.26396547482688\n"
          ],
          "name": "stdout"
        }
      ]
    },
    {
      "cell_type": "code",
      "metadata": {
        "colab": {
          "base_uri": "https://localhost:8080/"
        },
        "id": "o0Dq8d0gln2P",
        "outputId": "872999a9-e1d5-4458-b2a2-58cb48aa0922"
      },
      "source": [
        "abc = 46.3 + (33.9*np.log10(1800)) - (13.82*np.log10(100))\r\n",
        "print(abc)"
      ],
      "execution_count": 7,
      "outputs": [
        {
          "output_type": "stream",
          "text": [
            "129.01373792300205\n"
          ],
          "name": "stdout"
        }
      ]
    },
    {
      "cell_type": "code",
      "metadata": {
        "colab": {
          "base_uri": "https://localhost:8080/"
        },
        "id": "6CqqFeOrlwGN",
        "outputId": "7fda25f6-6931-405f-83ef-b03dd31cacf9"
      },
      "source": [
        "ahr = ((((1.1*np.log10(1800))-0.7)*10) - ((1.56*np.log10(1800))-0.8))\r\n",
        "print(ahr)"
      ],
      "execution_count": 8,
      "outputs": [
        {
          "output_type": "stream",
          "text": [
            "24.529772448175216\n"
          ],
          "name": "stdout"
        }
      ]
    },
    {
      "cell_type": "code",
      "metadata": {
        "colab": {
          "base_uri": "https://localhost:8080/"
        },
        "id": "xRQcuweRlwJC",
        "outputId": "5cd91175-ba1e-4e27-f87e-d7374710f5b2"
      },
      "source": [
        "ef = (44.9-(6.55*np.log10(100)))*np.log10(10)\r\n",
        "print(ef)"
      ],
      "execution_count": 9,
      "outputs": [
        {
          "output_type": "stream",
          "text": [
            "31.799999999999997\n"
          ],
          "name": "stdout"
        }
      ]
    },
    {
      "cell_type": "code",
      "metadata": {
        "id": "YEXqvL-WlwYR"
      },
      "source": [
        "def ploss (d, f, cm, ht, hr):\r\n",
        "  pldb= 46.3 + (33.9*np.log10(f)) - (13.83*np.log10(ht)) - ((((1.1*np.log10(f)) - 0.7) * hr) - ((1.56*np.log10(f)) - 0.8)) + ((44.9 - (6.55*np.log10(ht)))*np.log10(d)) + cm\r\n",
        "  plnum=LtN(-pldb)\r\n",
        "  return pldb,plnum"
      ],
      "execution_count": 10,
      "outputs": []
    },
    {
      "cell_type": "code",
      "metadata": {
        "colab": {
          "base_uri": "https://localhost:8080/"
        },
        "id": "BLjWbplqln4k",
        "outputId": "a5b88c70-620e-4742-b7a5-58e7d2765654"
      },
      "source": [
        "pathlossdb, pathlossnum = ploss(30, 1900, 0, 150, 15)\r\n",
        "print(\"pathloss dalam db =\",pathlossdb,\"dB\")\r\n",
        "print(\"pathloss dalam numerik =\",pathlossnum,\"kali\")"
      ],
      "execution_count": 11,
      "outputs": [
        {
          "output_type": "stream",
          "text": [
            "pathloss dalam db = 133.33857373444505 dB\n",
            "pathloss dalam numerik = 4.635991452322962e-14 kali\n"
          ],
          "name": "stdout"
        }
      ]
    }
  ]
}