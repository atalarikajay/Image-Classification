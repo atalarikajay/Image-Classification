{
  "nbformat": 4,
  "nbformat_minor": 0,
  "metadata": {
    "colab": {
      "name": "Untitled1.ipynb",
      "provenance": [],
      "authorship_tag": "ABX9TyNQg32zJxkrXf6UcLWFnrZ/",
      "include_colab_link": true
    },
    "kernelspec": {
      "name": "python3",
      "display_name": "Python 3"
    }
  },
  "cells": [
    {
      "cell_type": "markdown",
      "metadata": {
        "id": "view-in-github",
        "colab_type": "text"
      },
      "source": [
        "<a href=\"https://colab.research.google.com/github/atalarikajay/Image-Classification/blob/main/Tugas%2012_Muhammad%20Atalarik%20Syach%20Ajay_1101208519_TTX-44-01.ipynb\" target=\"_parent\"><img src=\"https://colab.research.google.com/assets/colab-badge.svg\" alt=\"Open In Colab\"/></a>"
      ]
    },
    {
      "cell_type": "code",
      "metadata": {
        "id": "DUBzB_RSjbY8"
      },
      "source": [
        "import numpy as np"
      ],
      "execution_count": null,
      "outputs": []
    },
    {
      "cell_type": "code",
      "metadata": {
        "id": "dcTtCHjwjy2G"
      },
      "source": [
        "NtL = lambda x: 10*np.log10(x)"
      ],
      "execution_count": null,
      "outputs": []
    },
    {
      "cell_type": "code",
      "metadata": {
        "colab": {
          "base_uri": "https://localhost:8080/"
        },
        "id": "JKxuwjtyjy82",
        "outputId": "9e7c26b4-7b02-4707-c860-23d80ab697f9"
      },
      "source": [
        "z=NtL(1)\r\n",
        "print(z)"
      ],
      "execution_count": null,
      "outputs": [
        {
          "output_type": "stream",
          "text": [
            "0.0\n"
          ],
          "name": "stdout"
        }
      ]
    },
    {
      "cell_type": "code",
      "metadata": {
        "id": "Ie9qAmWWj4T8"
      },
      "source": [
        "LtN = lambda x: 10**(x/10)"
      ],
      "execution_count": null,
      "outputs": []
    },
    {
      "cell_type": "code",
      "metadata": {
        "colab": {
          "base_uri": "https://localhost:8080/"
        },
        "id": "Cvkytsjij4gr",
        "outputId": "f0d10260-bd2c-44e5-9415-54b616021063"
      },
      "source": [
        "y=LtN(0)\r\n",
        "print(y)"
      ],
      "execution_count": null,
      "outputs": [
        {
          "output_type": "stream",
          "text": [
            "1.0\n"
          ],
          "name": "stdout"
        }
      ]
    },
    {
      "cell_type": "code",
      "metadata": {
        "colab": {
          "base_uri": "https://localhost:8080/"
        },
        "id": "-IjmUI3sj43I",
        "outputId": "78195926-f7fc-4d86-a5be-d1e2a5682764"
      },
      "source": [
        "Lp = 46.3 + (33.9*np.log10(1800)) - (13.83*np.log10(100)) - ((((1.1*np.log10(1800))-0.7)*10) - ((1.56*np.log10(1800))-0.8)) + ((44.9-(6.55*np.log10(100)))*np.log10(10)) + 0\r\n",
        "print(Lp)"
      ],
      "execution_count": null,
      "outputs": [
        {
          "output_type": "stream",
          "text": [
            "136.26396547482688\n"
          ],
          "name": "stdout"
        }
      ]
    },
    {
      "cell_type": "code",
      "metadata": {
        "colab": {
          "base_uri": "https://localhost:8080/"
        },
        "id": "-Ki1psQ4j47J",
        "outputId": "5285f702-4ab7-43f2-b087-dba9374a8600"
      },
      "source": [
        "abc = 46.3 + (33.9*np.log10(1800)) - (13.82*np.log10(100))\r\n",
        "print(abc)"
      ],
      "execution_count": null,
      "outputs": [
        {
          "output_type": "stream",
          "text": [
            "129.01373792300205\n"
          ],
          "name": "stdout"
        }
      ]
    },
    {
      "cell_type": "code",
      "metadata": {
        "colab": {
          "base_uri": "https://localhost:8080/"
        },
        "id": "Ahnd_69kkAkv",
        "outputId": "315057a9-912e-4c27-a143-1b610f36adbb"
      },
      "source": [
        "ahr = ((((1.1*np.log10(1800))-0.7)*10) - ((1.56*np.log10(1800))-0.8))\r\n",
        "print(ahr)"
      ],
      "execution_count": null,
      "outputs": [
        {
          "output_type": "stream",
          "text": [
            "24.529772448175216\n"
          ],
          "name": "stdout"
        }
      ]
    },
    {
      "cell_type": "code",
      "metadata": {
        "colab": {
          "base_uri": "https://localhost:8080/"
        },
        "id": "oHs5HfN6kAoU",
        "outputId": "a8161690-22d7-4a55-ee87-55e68cacbed5"
      },
      "source": [
        "ef = (44.9-(6.55*np.log10(100)))*np.log10(10)\r\n",
        "print(ef)"
      ],
      "execution_count": null,
      "outputs": [
        {
          "output_type": "stream",
          "text": [
            "31.799999999999997\n"
          ],
          "name": "stdout"
        }
      ]
    },
    {
      "cell_type": "code",
      "metadata": {
        "id": "wjGlrhZ8kAzU"
      },
      "source": [
        "def ploss (d, f, cm, ht, hr):\r\n",
        "  pldb= 46.3 + (33.9*np.log10(f)) - (13.83*np.log10(ht)) - ((((1.1*np.log10(f)) - 0.7) * hr) - ((1.56*np.log10(f)) - 0.8)) + ((44.9 - (6.55*np.log10(ht)))*np.log10(d)) + cm\r\n",
        "  plnum=LtN(-pldb)\r\n",
        "  return pldb,plnum"
      ],
      "execution_count": null,
      "outputs": []
    },
    {
      "cell_type": "code",
      "metadata": {
        "colab": {
          "base_uri": "https://localhost:8080/"
        },
        "id": "b8e_t9Z4kGvd",
        "outputId": "5ccad6fb-a16d-4dbc-b656-72b65d16f107"
      },
      "source": [
        "pathlossdb, pathlossnum = ploss(30, 1900, 0, 150, 15)\r\n",
        "print(\"pathloss dalam db =\",pathlossdb,\"dB\")\r\n",
        "print(\"pathloss dalam numerik =\",pathlossnum,\"kali\")"
      ],
      "execution_count": null,
      "outputs": [
        {
          "output_type": "stream",
          "text": [
            "pathloss dalam db = 133.33857373444505 dB\n",
            "pathloss dalam numerik = 4.635991452322962e-14 kali\n"
          ],
          "name": "stdout"
        }
      ]
    }
  ]
}