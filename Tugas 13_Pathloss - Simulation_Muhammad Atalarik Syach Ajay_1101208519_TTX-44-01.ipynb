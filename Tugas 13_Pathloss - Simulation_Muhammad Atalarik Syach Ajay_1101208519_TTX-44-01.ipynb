{
  "nbformat": 4,
  "nbformat_minor": 0,
  "metadata": {
    "colab": {
      "name": "Untitled4.ipynb",
      "provenance": [],
      "authorship_tag": "ABX9TyPwT8reAlbvHEu9qohrH8Cs",
      "include_colab_link": true
    },
    "kernelspec": {
      "name": "python3",
      "display_name": "Python 3"
    }
  },
  "cells": [
    {
      "cell_type": "markdown",
      "metadata": {
        "id": "view-in-github",
        "colab_type": "text"
      },
      "source": [
        "<a href=\"https://colab.research.google.com/github/atalarikajay/Image-Classification/blob/main/Tugas%2013_Pathloss%20-%20Simulation_Muhammad%20Atalarik%20Syach%20Ajay_1101208519_TTX-44-01.ipynb\" target=\"_parent\"><img src=\"https://colab.research.google.com/assets/colab-badge.svg\" alt=\"Open In Colab\"/></a>"
      ]
    },
    {
      "cell_type": "code",
      "metadata": {
        "id": "mKzhBZjPuduv"
      },
      "source": [
        "import numpy as np\r\n",
        "import matplotlib.pyplot as plt"
      ],
      "execution_count": 1,
      "outputs": []
    },
    {
      "cell_type": "code",
      "metadata": {
        "colab": {
          "base_uri": "https://localhost:8080/"
        },
        "id": "ud4tjyV2uel3",
        "outputId": "44a1ec0f-d3e4-4121-c779-825208fb2325"
      },
      "source": [
        "np.zeros(4)"
      ],
      "execution_count": 2,
      "outputs": [
        {
          "output_type": "execute_result",
          "data": {
            "text/plain": [
              "array([0., 0., 0., 0.])"
            ]
          },
          "metadata": {
            "tags": []
          },
          "execution_count": 2
        }
      ]
    },
    {
      "cell_type": "code",
      "metadata": {
        "colab": {
          "base_uri": "https://localhost:8080/"
        },
        "id": "Cinr45yhueos",
        "outputId": "956c014e-fda1-4c8c-bd79-9af49c047b9d"
      },
      "source": [
        "np.ones(3)"
      ],
      "execution_count": 3,
      "outputs": [
        {
          "output_type": "execute_result",
          "data": {
            "text/plain": [
              "array([1., 1., 1.])"
            ]
          },
          "metadata": {
            "tags": []
          },
          "execution_count": 3
        }
      ]
    },
    {
      "cell_type": "code",
      "metadata": {
        "colab": {
          "base_uri": "https://localhost:8080/"
        },
        "id": "KiBXr0uXuera",
        "outputId": "2ff32858-9470-44e9-b94d-150e6652f158"
      },
      "source": [
        "np.zeros((3,4))"
      ],
      "execution_count": 4,
      "outputs": [
        {
          "output_type": "execute_result",
          "data": {
            "text/plain": [
              "array([[0., 0., 0., 0.],\n",
              "       [0., 0., 0., 0.],\n",
              "       [0., 0., 0., 0.]])"
            ]
          },
          "metadata": {
            "tags": []
          },
          "execution_count": 4
        }
      ]
    },
    {
      "cell_type": "code",
      "metadata": {
        "colab": {
          "base_uri": "https://localhost:8080/"
        },
        "id": "404XldzMueuY",
        "outputId": "e0dfdba7-8e7c-450a-beb7-1531345cb878"
      },
      "source": [
        "np.ones((5,2))"
      ],
      "execution_count": 5,
      "outputs": [
        {
          "output_type": "execute_result",
          "data": {
            "text/plain": [
              "array([[1., 1.],\n",
              "       [1., 1.],\n",
              "       [1., 1.],\n",
              "       [1., 1.],\n",
              "       [1., 1.]])"
            ]
          },
          "metadata": {
            "tags": []
          },
          "execution_count": 5
        }
      ]
    },
    {
      "cell_type": "code",
      "metadata": {
        "colab": {
          "base_uri": "https://localhost:8080/"
        },
        "id": "oNnrXapNuexw",
        "outputId": "493a8494-3fce-4a6d-8d07-6e4dc4e55adf"
      },
      "source": [
        "np.arange(10)"
      ],
      "execution_count": 6,
      "outputs": [
        {
          "output_type": "execute_result",
          "data": {
            "text/plain": [
              "array([0, 1, 2, 3, 4, 5, 6, 7, 8, 9])"
            ]
          },
          "metadata": {
            "tags": []
          },
          "execution_count": 6
        }
      ]
    },
    {
      "cell_type": "code",
      "metadata": {
        "colab": {
          "base_uri": "https://localhost:8080/"
        },
        "id": "0PiRaE9Tue0Y",
        "outputId": "a67978ff-b00a-4fe7-c2ca-028a4036ab2f"
      },
      "source": [
        "np.arange(2,10)"
      ],
      "execution_count": 7,
      "outputs": [
        {
          "output_type": "execute_result",
          "data": {
            "text/plain": [
              "array([2, 3, 4, 5, 6, 7, 8, 9])"
            ]
          },
          "metadata": {
            "tags": []
          },
          "execution_count": 7
        }
      ]
    },
    {
      "cell_type": "code",
      "metadata": {
        "colab": {
          "base_uri": "https://localhost:8080/"
        },
        "id": "_BIRx1gCue3Y",
        "outputId": "bf0a848d-9e05-4267-c7e2-54315b1a0176"
      },
      "source": [
        "np.arange(3,47,4)"
      ],
      "execution_count": 8,
      "outputs": [
        {
          "output_type": "execute_result",
          "data": {
            "text/plain": [
              "array([ 3,  7, 11, 15, 19, 23, 27, 31, 35, 39, 43])"
            ]
          },
          "metadata": {
            "tags": []
          },
          "execution_count": 8
        }
      ]
    },
    {
      "cell_type": "code",
      "metadata": {
        "colab": {
          "base_uri": "https://localhost:8080/"
        },
        "id": "xt-FY8xoue6O",
        "outputId": "67836279-fbb6-404d-ba7f-5f068fefb28b"
      },
      "source": [
        "np.arange(4,5,0.1)"
      ],
      "execution_count": 9,
      "outputs": [
        {
          "output_type": "execute_result",
          "data": {
            "text/plain": [
              "array([4. , 4.1, 4.2, 4.3, 4.4, 4.5, 4.6, 4.7, 4.8, 4.9])"
            ]
          },
          "metadata": {
            "tags": []
          },
          "execution_count": 9
        }
      ]
    },
    {
      "cell_type": "code",
      "metadata": {
        "colab": {
          "base_uri": "https://localhost:8080/"
        },
        "id": "kDeNBeeVue86",
        "outputId": "382b389a-1fa2-4b7d-b0a2-1d5552bbe48c"
      },
      "source": [
        "np.arange(2,-4,-0.5)"
      ],
      "execution_count": 10,
      "outputs": [
        {
          "output_type": "execute_result",
          "data": {
            "text/plain": [
              "array([ 2. ,  1.5,  1. ,  0.5,  0. , -0.5, -1. , -1.5, -2. , -2.5, -3. ,\n",
              "       -3.5])"
            ]
          },
          "metadata": {
            "tags": []
          },
          "execution_count": 10
        }
      ]
    },
    {
      "cell_type": "code",
      "metadata": {
        "colab": {
          "base_uri": "https://localhost:8080/"
        },
        "id": "oida-HgcufAE",
        "outputId": "56918f7c-fe06-4ca0-ddd1-8567a55ea484"
      },
      "source": [
        "np.linspace(2,10,4)"
      ],
      "execution_count": 11,
      "outputs": [
        {
          "output_type": "execute_result",
          "data": {
            "text/plain": [
              "array([ 2.        ,  4.66666667,  7.33333333, 10.        ])"
            ]
          },
          "metadata": {
            "tags": []
          },
          "execution_count": 11
        }
      ]
    },
    {
      "cell_type": "code",
      "metadata": {
        "colab": {
          "base_uri": "https://localhost:8080/"
        },
        "id": "2J1D6JjpufDI",
        "outputId": "de584dae-9a83-4275-db2e-e1ae51e6786b"
      },
      "source": [
        "np.linspace(2,-4,4)"
      ],
      "execution_count": 12,
      "outputs": [
        {
          "output_type": "execute_result",
          "data": {
            "text/plain": [
              "array([ 2.,  0., -2., -4.])"
            ]
          },
          "metadata": {
            "tags": []
          },
          "execution_count": 12
        }
      ]
    },
    {
      "cell_type": "code",
      "metadata": {
        "id": "nXHcLgeyufF8"
      },
      "source": [
        "e=np.arange(0,20,2)"
      ],
      "execution_count": 13,
      "outputs": []
    },
    {
      "cell_type": "code",
      "metadata": {
        "colab": {
          "base_uri": "https://localhost:8080/"
        },
        "id": "J1xgzQlSufIw",
        "outputId": "dc1809a5-00b8-41fe-d964-08a3dbcb1c25"
      },
      "source": [
        "len(e)"
      ],
      "execution_count": 14,
      "outputs": [
        {
          "output_type": "execute_result",
          "data": {
            "text/plain": [
              "10"
            ]
          },
          "metadata": {
            "tags": []
          },
          "execution_count": 14
        }
      ]
    },
    {
      "cell_type": "code",
      "metadata": {
        "colab": {
          "base_uri": "https://localhost:8080/"
        },
        "id": "QTTlsowZufLp",
        "outputId": "066f0b41-d0d0-45a5-9f6f-af1f0fa2ddce"
      },
      "source": [
        "e.reshape(5,2)"
      ],
      "execution_count": 15,
      "outputs": [
        {
          "output_type": "execute_result",
          "data": {
            "text/plain": [
              "array([[ 0,  2],\n",
              "       [ 4,  6],\n",
              "       [ 8, 10],\n",
              "       [12, 14],\n",
              "       [16, 18]])"
            ]
          },
          "metadata": {
            "tags": []
          },
          "execution_count": 15
        }
      ]
    },
    {
      "cell_type": "code",
      "metadata": {
        "colab": {
          "base_uri": "https://localhost:8080/"
        },
        "id": "swa72xrJufOc",
        "outputId": "23dfae2f-00dc-46cd-8a2e-cea039cbc450"
      },
      "source": [
        "e.reshape(2,5)"
      ],
      "execution_count": 16,
      "outputs": [
        {
          "output_type": "execute_result",
          "data": {
            "text/plain": [
              "array([[ 0,  2,  4,  6,  8],\n",
              "       [10, 12, 14, 16, 18]])"
            ]
          },
          "metadata": {
            "tags": []
          },
          "execution_count": 16
        }
      ]
    },
    {
      "cell_type": "code",
      "metadata": {
        "colab": {
          "base_uri": "https://localhost:8080/"
        },
        "id": "DbFvekauufRT",
        "outputId": "8f83c0c1-d173-46d1-d918-a3c3369e403c"
      },
      "source": [
        "print(e)"
      ],
      "execution_count": 17,
      "outputs": [
        {
          "output_type": "stream",
          "text": [
            "[ 0  2  4  6  8 10 12 14 16 18]\n"
          ],
          "name": "stdout"
        }
      ]
    },
    {
      "cell_type": "code",
      "metadata": {
        "id": "KJ4V1xtgufUB"
      },
      "source": [
        "f=e.reshape(5,2)"
      ],
      "execution_count": 18,
      "outputs": []
    },
    {
      "cell_type": "code",
      "metadata": {
        "colab": {
          "base_uri": "https://localhost:8080/"
        },
        "id": "mkAYWsY3ufXC",
        "outputId": "37ac9fbc-2a70-4079-d72d-6908f14a79fc"
      },
      "source": [
        "print(f)"
      ],
      "execution_count": 19,
      "outputs": [
        {
          "output_type": "stream",
          "text": [
            "[[ 0  2]\n",
            " [ 4  6]\n",
            " [ 8 10]\n",
            " [12 14]\n",
            " [16 18]]\n"
          ],
          "name": "stdout"
        }
      ]
    },
    {
      "cell_type": "code",
      "metadata": {
        "colab": {
          "base_uri": "https://localhost:8080/"
        },
        "id": "CjLjPOZRufZ8",
        "outputId": "934de224-530b-48c2-b711-be7ee7d56140"
      },
      "source": [
        "np.random.random((3,4))"
      ],
      "execution_count": 20,
      "outputs": [
        {
          "output_type": "execute_result",
          "data": {
            "text/plain": [
              "array([[0.71637097, 0.6182422 , 0.85307034, 0.67816986],\n",
              "       [0.03103488, 0.22535195, 0.19380911, 0.38910914],\n",
              "       [0.84092263, 0.64914384, 0.88864523, 0.8058399 ]])"
            ]
          },
          "metadata": {
            "tags": []
          },
          "execution_count": 20
        }
      ]
    },
    {
      "cell_type": "code",
      "metadata": {
        "colab": {
          "base_uri": "https://localhost:8080/"
        },
        "id": "TrfclU3lufc6",
        "outputId": "5f6d7ef1-6a03-4979-fb21-ada41b056c9a"
      },
      "source": [
        "np.random.randint(1,20,10)"
      ],
      "execution_count": 21,
      "outputs": [
        {
          "output_type": "execute_result",
          "data": {
            "text/plain": [
              "array([ 2, 17, 16, 16,  1,  9, 19, 18, 19, 14])"
            ]
          },
          "metadata": {
            "tags": []
          },
          "execution_count": 21
        }
      ]
    },
    {
      "cell_type": "code",
      "metadata": {
        "colab": {
          "base_uri": "https://localhost:8080/"
        },
        "id": "aEPoDbLmufgN",
        "outputId": "527ba477-61d1-4747-ecc0-5973aa070e9e"
      },
      "source": [
        "np.random.randn(3)"
      ],
      "execution_count": 22,
      "outputs": [
        {
          "output_type": "execute_result",
          "data": {
            "text/plain": [
              "array([-2.27311663,  1.13152969, -0.32486386])"
            ]
          },
          "metadata": {
            "tags": []
          },
          "execution_count": 22
        }
      ]
    },
    {
      "cell_type": "code",
      "metadata": {
        "id": "GhCeyB9gufjI"
      },
      "source": [
        "def cos(frek,tipe,ht,hr,d):\r\n",
        "    if frek in range(150,1501):\r\n",
        "        Ca=69.55\r\n",
        "        Cb=26.16\r\n",
        "    elif frek in range(1501,2001):\r\n",
        "        Ca=46.3\r\n",
        "        Cb=33.9\r\n",
        "    \r\n",
        "    if tipe=='urban' :\r\n",
        "        Cm=0\r\n",
        "    elif tipe=='suburban' :\r\n",
        "        Cm= -2*((np.log10((frek/28)**2))-5.4)\r\n",
        "    elif tipe=='open' :\r\n",
        "        Cm= -4.78*(np.log10(frek))+18.33*(np.log10(frek))-40.94\r\n",
        "    else :\r\n",
        "        Cm='tipe salah'\r\n",
        "    \r\n",
        "    ahr = (1.1*np.log10(frek)-0.7)*hr-(1.56*np.log10(frek)-1.8)\r\n",
        "    Lp = Ca+(Cb*np.log10(frek))-(13.83*np.log(ht))-ahr+((44.9-6.55*np.log10(ht))*np.log10(d))-Cm\r\n",
        "    \r\n",
        "    return Lp"
      ],
      "execution_count": 23,
      "outputs": []
    },
    {
      "cell_type": "code",
      "metadata": {
        "id": "1t-SihZDufmO"
      },
      "source": [
        "f=1800 #MHz\r\n",
        "loc1='urban'\r\n",
        "loc2='open'\r\n",
        "loc3='suburban'\r\n",
        "tower=80 #m\r\n",
        "user=1.5 #m\r\n",
        "dmin=200 #m\r\n",
        "dmax=700 #m\r\n",
        "N=200 #titik\r\n",
        "d=np.random.randint(dmin,dmax,N)"
      ],
      "execution_count": 24,
      "outputs": []
    },
    {
      "cell_type": "code",
      "metadata": {
        "colab": {
          "base_uri": "https://localhost:8080/"
        },
        "id": "uXSOuEqdufpW",
        "outputId": "5703b7ed-3b39-4eb9-91a6-9a185fbe240b"
      },
      "source": [
        "print(d)"
      ],
      "execution_count": 25,
      "outputs": [
        {
          "output_type": "stream",
          "text": [
            "[356 634 468 427 342 517 652 475 483 257 683 489 302 523 281 510 428 428\n",
            " 539 489 663 544 210 522 665 293 490 584 513 597 368 523 202 613 327 444\n",
            " 347 665 443 340 661 284 615 642 502 687 697 655 351 573 350 547 503 562\n",
            " 435 210 434 508 217 321 588 272 690 479 540 438 599 387 288 449 465 390\n",
            " 475 275 286 534 421 230 410 370 656 228 356 568 655 375 520 624 682 248\n",
            " 352 671 632 696 372 553 653 323 515 328 340 648 297 210 325 413 538 677\n",
            " 212 446 273 449 413 415 457 693 390 346 299 677 536 539 383 378 599 218\n",
            " 403 355 304 208 251 669 473 224 420 283 435 687 509 605 628 217 595 682\n",
            " 572 255 422 416 584 542 418 560 691 566 509 434 648 455 573 662 204 670\n",
            " 475 318 229 321 204 325 636 473 542 328 475 639 438 239 616 437 589 334\n",
            " 597 421 429 329 411 215 420 351 411 696 537 549 555 648 384 407 394 397\n",
            " 611 593]\n"
          ],
          "name": "stdout"
        }
      ]
    },
    {
      "cell_type": "code",
      "metadata": {
        "id": "T19tJ-bgufsU"
      },
      "source": [
        "LpUrban=cos(f,loc1,tower,user,d)\r\n",
        "LpOpen=cos(f,loc2,tower,user,d)\r\n",
        "LpSuburban=cos(f,loc3,tower,user,d)"
      ],
      "execution_count": 26,
      "outputs": []
    },
    {
      "cell_type": "code",
      "metadata": {
        "colab": {
          "base_uri": "https://localhost:8080/"
        },
        "id": "sF1lvpPqufvo",
        "outputId": "30120be0-d4f0-4c79-8ec1-0a762a70ce7e"
      },
      "source": [
        "print(LpUrban, LpOpen, LpSuburban)"
      ],
      "execution_count": 27,
      "outputs": [
        {
          "output_type": "stream",
          "text": [
            "[177.76300487 185.89242926 181.61611999 180.3246334  177.19786511\n",
            " 183.01875116 186.28678204 181.82525143 182.06051765 173.17293892\n",
            " 186.94109196 182.23442403 175.44576648 183.18128647 174.43053827\n",
            " 182.82672547 180.35758368 180.35758368 183.60576266 182.23442403\n",
            " 186.52245082 183.73583041 170.32796189 183.15432715 186.56487928\n",
            " 175.0195957  182.26320082 184.73527342 182.90934294 185.04539786\n",
            " 178.22999474 183.18128647 169.78085477 185.41794817 176.56608938\n",
            " 180.87456785 177.40231336 186.56487928 180.84280631 177.11524764\n",
            " 186.47989418 174.58012804 185.46383172 186.06906151 182.60401352\n",
            " 187.0233476  187.22690949 186.35144736 177.56376198 184.46741986\n",
            " 177.52357297 183.81329845 182.63204584 184.19437411 180.5861024\n",
            " 170.32796189 180.55368296 182.77137672 170.78984712 176.30522567\n",
            " 184.83142558 173.97199457 187.08472564 181.94337571 183.63187246\n",
            " 180.68291541 185.09250907 178.93912065 174.77714157 181.03231012\n",
            " 181.52553294 179.04789523 181.82525143 174.12650695 174.67897923\n",
            " 183.4744827  180.12529653 171.60941197 179.75235389 178.30634309\n",
            " 186.37293666 171.48638728 177.76300487 184.34396388 186.35144736\n",
            " 178.49542295 183.10025324 185.668478   186.92045278 172.67080204\n",
            " 177.60383665 186.69140322 185.84792294 187.20668516 178.38227987\n",
            " 183.96696802 186.30837014 176.39271811 182.96415327 176.60910082\n",
            " 177.11524764 186.20009722 175.21059846 170.32796189 176.47967047\n",
            " 179.85504867 183.57960436 186.81680082 170.46148173 180.93787689\n",
            " 174.02368724 181.03231012 179.85504867 179.92309826 181.28108017\n",
            " 187.14583739 179.04789523 177.36166041 175.30513732 186.81680082\n",
            " 183.52714159 183.60576266 178.79276882 178.60766448 185.09250907\n",
            " 170.85461155 179.50978046 177.72338111 175.53874529 170.19316433\n",
            " 172.84017768 186.64935472 181.76581574 171.23706683 180.09179773\n",
            " 174.53044108 180.5861024  187.0233476  182.79907828 185.23290462\n",
            " 185.75848621 170.78984712 184.99812856 186.92045278 184.44281507\n",
            " 173.06288963 180.15871585 179.95700017 184.73527342 183.68394734\n",
            " 180.02456019 184.14415574 187.10512569 184.29427692 182.79907828\n",
            " 180.55368296 186.20009722 181.21929832 184.46741986 186.50118857\n",
            " 169.91963656 186.67039466 181.82525143 176.17295956 171.54803393\n",
            " 176.30522567 169.91963656 176.47967047 185.9367954  181.76581574\n",
            " 183.68394734 176.60910082 181.82525143 186.0030837  180.68291541\n",
            " 172.15010153 185.48671757 180.65071828 184.85536142 176.86444747\n",
            " 185.04539786 180.12529653 180.39045706 176.65198134 179.78666874\n",
            " 170.65941807 180.09179773 177.56376198 179.78666874 187.20668516\n",
            " 183.5533974  183.86470814 184.01782092 186.20009722 178.82949958\n",
            " 179.64890493 179.19163359 179.29848294 185.37191467 184.95070011] [174.59406243 182.72348681 178.44717754 177.15569096 174.02892266\n",
            " 179.84980871 183.11783959 178.65630898 178.89157521 170.00399648\n",
            " 183.77214952 179.06548158 172.27682404 180.01234402 171.26159583\n",
            " 179.65778303 177.18864124 177.18864124 180.43682021 179.06548158\n",
            " 183.35350838 180.56688796 167.15901945 179.98538471 183.39593684\n",
            " 171.85065326 179.09425838 181.56633097 179.74040049 181.87645542\n",
            " 175.06105229 180.01234402 166.61191233 182.24900573 173.39714693\n",
            " 177.70562541 174.23337092 183.39593684 177.67386387 173.9463052\n",
            " 183.31095174 171.41118559 182.29488928 182.90011907 179.43507107\n",
            " 183.85440515 184.05796704 183.18250491 174.39481953 181.29847742\n",
            " 174.35463053 180.64435601 179.4631034  181.02543166 177.41715995\n",
            " 167.15901945 177.38474052 179.60243428 167.62090468 173.13628323\n",
            " 181.66248314 170.80305213 183.91578319 178.77443326 180.46293002\n",
            " 177.51397296 181.92356662 175.77017821 171.60819912 177.86336768\n",
            " 178.3565905  175.87895279 178.65630898 170.95756451 171.51003679\n",
            " 180.30554025 176.95635408 168.44046952 176.58341145 175.13740065\n",
            " 183.20399422 168.31744483 174.59406243 181.17502143 183.18250491\n",
            " 175.3264805  179.9313108  182.49953555 183.75151034 169.5018596\n",
            " 174.43489421 183.52246078 182.6789805  184.03774272 175.21333742\n",
            " 180.79802558 183.1394277  173.22377567 179.79521082 173.44015838\n",
            " 173.9463052  183.03115478 172.04165601 167.15901945 173.31072803\n",
            " 176.68610622 180.41066192 183.64785838 167.29253929 177.76893445\n",
            " 170.8547448  177.86336768 176.68610622 176.75415581 178.11213772\n",
            " 183.97689495 175.87895279 174.19271797 172.13619488 183.64785838\n",
            " 180.35819915 180.43682021 175.62382637 175.43872203 181.92356662\n",
            " 167.6856691  176.34083802 174.55443866 172.36980284 167.02422189\n",
            " 169.67123523 183.48041228 178.59687329 168.06812439 176.92285529\n",
            " 171.36149864 177.41715995 183.85440515 179.63013584 182.06396218\n",
            " 182.58954377 167.62090468 181.82918612 183.75151034 181.27387263\n",
            " 169.89394719 176.9897734  176.78805773 181.56633097 180.51500489\n",
            " 176.85561775 180.97521329 183.93618325 181.12533448 179.63013584\n",
            " 177.38474052 183.03115478 178.05035588 181.29847742 183.33224613\n",
            " 166.75069412 183.50145222 178.65630898 173.00401711 168.37909149\n",
            " 173.13628323 166.75069412 173.31072803 182.76785295 178.59687329\n",
            " 180.51500489 173.44015838 178.65630898 182.83414125 177.51397296\n",
            " 168.98115909 182.31777513 177.48177583 181.68641898 173.69550502\n",
            " 181.87645542 176.95635408 177.22151462 173.48303889 176.6177263\n",
            " 167.49047562 176.92285529 174.39481953 176.6177263  184.03774272\n",
            " 180.38445496 180.69576569 180.84887848 183.03115478 175.66055713\n",
            " 176.47996248 176.02269115 176.12954049 182.20297223 181.78175766] [174.19546276 182.32488715 178.04857788 176.7570913  173.630323\n",
            " 179.45120905 182.71923993 178.25770932 178.49297554 169.60539682\n",
            " 183.37354986 178.66688192 171.87822438 179.61374436 170.86299616\n",
            " 179.25918336 176.79004158 176.79004158 180.03822055 178.66688192\n",
            " 182.95490872 180.1682883  166.76041979 179.58678505 182.99733718\n",
            " 171.4520536  178.69565872 181.16773131 179.34180083 181.47785576\n",
            " 174.66245263 179.61374436 166.21331267 181.85040607 172.99854727\n",
            " 177.30702575 173.83477126 182.99733718 177.27526421 173.54770554\n",
            " 182.91235208 171.01258593 181.89628962 182.50151941 179.03647141\n",
            " 183.45580549 183.65936738 182.78390525 173.99621987 180.89987776\n",
            " 173.95603087 180.24575635 179.06450373 180.626832   177.01856029\n",
            " 166.76041979 176.98614086 179.20383462 167.22230502 172.73768357\n",
            " 181.26388348 170.40445247 183.51718353 178.3758336  180.06433036\n",
            " 177.1153733  181.52496696 175.37157855 171.20959946 177.46476802\n",
            " 177.95799083 175.48035312 178.25770932 170.55896485 171.11143713\n",
            " 179.90694059 176.55775442 168.04186986 176.18481179 174.73880099\n",
            " 182.80539456 167.91884517 174.19546276 180.77642177 182.78390525\n",
            " 174.92788084 179.53271113 182.10093589 183.35291068 169.10325994\n",
            " 174.03629454 183.12386112 182.28038084 183.63914306 174.81473776\n",
            " 180.39942592 182.74082804 172.82517601 179.39661116 173.04155872\n",
            " 173.54770554 182.63255512 171.64305635 166.76041979 172.91212837\n",
            " 176.28750656 180.01206226 183.24925872 166.89393963 177.37033479\n",
            " 170.45614514 177.46476802 176.28750656 176.35555615 177.71353806\n",
            " 183.57829529 175.48035312 173.79411831 171.73759522 183.24925872\n",
            " 179.95959949 180.03822055 175.22522671 175.04012237 181.52496696\n",
            " 167.28706944 175.94223836 174.155839   171.97120318 166.62562223\n",
            " 169.27263557 183.08181262 178.19827363 167.66952473 176.52425562\n",
            " 170.96289898 177.01856029 183.45580549 179.23153618 181.66536252\n",
            " 182.19094411 167.22230502 181.43058646 183.35291068 180.87527297\n",
            " 169.49534753 176.59117374 176.38945806 181.16773131 180.11640523\n",
            " 176.45701809 180.57661363 183.53758359 180.72673482 179.23153618\n",
            " 176.98614086 182.63255512 177.65175622 180.89987776 182.93364647\n",
            " 166.35209446 183.10285256 178.25770932 172.60541745 167.98049183\n",
            " 172.73768357 166.35209446 172.91212837 182.36925329 178.19827363\n",
            " 180.11640523 173.04155872 178.25770932 182.43554159 177.1153733\n",
            " 168.58255943 181.91917547 177.08317617 181.28781931 173.29690536\n",
            " 181.47785576 176.55775442 176.82291496 173.08443923 176.21912664\n",
            " 167.09187596 176.52425562 173.99621987 176.21912664 183.63914306\n",
            " 179.9858553  180.29716603 180.45027882 182.63255512 175.26195747\n",
            " 176.08136282 175.62409149 175.73094083 181.80437257 181.383158  ]\n"
          ],
          "name": "stdout"
        }
      ]
    },
    {
      "cell_type": "code",
      "metadata": {
        "colab": {
          "base_uri": "https://localhost:8080/",
          "height": 279
        },
        "id": "0Lz8lFUvufyY",
        "outputId": "e9db45fd-61bb-44fb-edb7-a02b14818cec"
      },
      "source": [
        "plt.figure()\r\n",
        "plt.plot(d,LpUrban)\r\n",
        "plt.plot(d,LpOpen)\r\n",
        "plt.plot(d,LpSuburban)\r\n",
        "plt.xlabel('Jarak (m)')\r\n",
        "plt.ylabel('Path Loss (dB)')\r\n",
        "plt.show()"
      ],
      "execution_count": 28,
      "outputs": [
        {
          "output_type": "display_data",
          "data": {
            "image/png": "[encoded data removed]",
            "text/plain": [
              "<Figure size 432x288 with 1 Axes>"
            ]
          },
          "metadata": {
            "tags": [],
            "needs_background": "light"
          }
        }
      ]
    },
    {
      "cell_type": "code",
      "metadata": {
        "id": "DbjC-LTBuf1U"
      },
      "source": [
        "d_sort=d[np.argsort(d)]\r\n",
        "Urban_sort1=LpUrban[np.argsort(d)]\r\n",
        "Open_sort2=LpOpen[np.argsort(d)]\r\n",
        "Suburban_sort3=LpSuburban[np.argsort(d)]"
      ],
      "execution_count": 29,
      "outputs": []
    },
    {
      "cell_type": "code",
      "metadata": {
        "colab": {
          "base_uri": "https://localhost:8080/",
          "height": 295
        },
        "id": "_NgrMT5xuf4O",
        "outputId": "c98cbc03-1726-42f6-c5b3-16cb6f6ed1ef"
      },
      "source": [
        "plt.figure()\r\n",
        "plt.title('FREKUENSI 1800MHz (URBAN, OPEN, SUBURBAN)')\r\n",
        "plt.plot(d_sort,Urban_sort1, label='Urban')\r\n",
        "plt.plot(d_sort,Open_sort2, label=\"Open\")\r\n",
        "plt.plot(d_sort,Suburban_sort3, label=\"Suburban\")\r\n",
        "plt.legend()\r\n",
        "plt.xlabel('Jarak (m)')\r\n",
        "plt.ylabel('Path Loss (dB)')\r\n",
        "plt.show()"
      ],
      "execution_count": 30,
      "outputs": [
        {
          "output_type": "display_data",
          "data": {
            "image/png": "[encoded data removed]",
            "text/plain": [
              "<Figure size 432x288 with 1 Axes>"
            ]
          },
          "metadata": {
            "tags": [],
            "needs_background": "light"
          }
        }
      ]
    },
    {
      "cell_type": "code",
      "metadata": {
        "id": "EhL6lK1cuf7W"
      },
      "source": [
        "def cos(frek,tipe,ht,hr,d):\r\n",
        "    if frek in range(150,1501):\r\n",
        "        Ca=69.55\r\n",
        "        Cb=26.16\r\n",
        "    elif frek in range(1501,2001):\r\n",
        "        Ca=46.3\r\n",
        "        Cb=33.9\r\n",
        "    \r\n",
        "    if tipe=='urban' :\r\n",
        "        Cm=0\r\n",
        "    elif tipe=='suburban' :\r\n",
        "        Cm= -2*((np.log10((frek/28)**2))-5.4)\r\n",
        "    elif tipe=='open' :\r\n",
        "        Cm= -4.78*(np.log10(frek))+18.33*(np.log10(frek))-40.94\r\n",
        "    else :\r\n",
        "        Cm='tipe salah'\r\n",
        "    \r\n",
        "    ahr = (1.1*np.log10(frek)-0.7)*hr-(1.56*np.log10(frek)-1.8)\r\n",
        "    Lp = Ca+(Cb*np.log10(frek))-(13.83*np.log(ht))-ahr+((44.9-6.55*np.log10(ht))*np.log10(d))-Cm\r\n",
        "    \r\n",
        "    return Lp"
      ],
      "execution_count": 31,
      "outputs": []
    },
    {
      "cell_type": "code",
      "metadata": {
        "id": "1N2o8onJuf-R"
      },
      "source": [
        "f1=700 #MHz\r\n",
        "f2=900 #MHz\r\n",
        "f3=1800 #MHz\r\n",
        "loc='urban'\r\n",
        "tower=80 #m\r\n",
        "user=1.5 #m\r\n",
        "dmin=200 #m\r\n",
        "dmax=700 #m\r\n",
        "N=200 #titik\r\n",
        "d=np.random.randint(dmin,dmax,N)"
      ],
      "execution_count": 32,
      "outputs": []
    },
    {
      "cell_type": "code",
      "metadata": {
        "colab": {
          "base_uri": "https://localhost:8080/"
        },
        "id": "1YXhPFVmugBV",
        "outputId": "759d9651-48b6-4f7c-f395-5b7ee6a1e2f9"
      },
      "source": [
        "print(d)"
      ],
      "execution_count": 33,
      "outputs": [
        {
          "output_type": "stream",
          "text": [
            "[691 264 239 487 228 333 503 268 364 588 279 557 227 256 366 371 525 634\n",
            " 308 428 638 532 594 587 616 315 408 356 511 454 645 611 408 672 453 437\n",
            " 206 382 418 384 238 238 597 659 357 473 362 460 401 389 590 203 340 556\n",
            " 302 363 205 410 346 391 338 286 666 538 683 228 500 280 394 677 262 676\n",
            " 663 341 583 235 569 517 326 503 305 343 571 618 392 203 653 307 535 287\n",
            " 696 507 543 231 582 604 256 679 645 592 232 638 480 346 385 560 380 347\n",
            " 563 548 280 681 392 594 422 355 297 556 444 453 493 234 692 312 671 240\n",
            " 593 494 674 483 390 606 289 571 410 335 537 691 685 256 629 229 423 383\n",
            " 444 269 291 682 343 205 669 496 202 698 319 526 502 441 437 426 220 442\n",
            " 528 651 377 492 343 289 228 673 374 456 221 320 251 364 236 269 556 652\n",
            " 610 501 217 489 631 214 404 545 495 658 356 643 461 289 412 456 245 330\n",
            " 337 457]\n"
          ],
          "name": "stdout"
        }
      ]
    },
    {
      "cell_type": "code",
      "metadata": {
        "id": "WzSSjUBnugEd"
      },
      "source": [
        "LpUrban700=cos(f1,loc,tower,user,d)\r\n",
        "LpUrban900=cos(f2,loc,tower,user,d)\r\n",
        "LpUrban1800=cos(f3,loc,tower,user,d)"
      ],
      "execution_count": 34,
      "outputs": []
    },
    {
      "cell_type": "code",
      "metadata": {
        "colab": {
          "base_uri": "https://localhost:8080/"
        },
        "id": "gQlxA_sSugHl",
        "outputId": "cee086be-ab7c-4873-c61d-e75f8464c223"
      },
      "source": [
        "print(LpUrban700, LpUrban900, LpUrban1800)"
      ],
      "execution_count": 35,
      "outputs": [
        {
          "output_type": "stream",
          "text": [
            "[174.4660682  160.91242115 159.51104404 169.53763597 158.84732978\n",
            " 164.18315235 169.99298835 161.12424826 165.43698776 172.19236809\n",
            " 161.69086436 171.4294334  158.78541216 160.47896425 165.51417282\n",
            " 165.70530516 170.59599331 173.25337176 163.08382424 167.71852619\n",
            " 173.34196474 170.78256872 172.3353768  172.16839151 172.84766008\n",
            " 163.40038223 167.0444149  165.12394737 170.21526101 168.54924799\n",
            " 173.49567424 172.73285718 167.0444149  174.073323   168.51818682\n",
            " 168.01166078 157.41800686 166.11688454 167.3855027  166.19044208\n",
            " 159.45198216 159.45198216 172.40634037 173.79815109 165.16345999\n",
            " 169.12675824 165.35937744 168.73419031 166.80064204 166.37267279\n",
            " 172.24019916 157.21135909 164.47619015 171.4041212  162.80670899\n",
            " 165.39823605 157.34946056 167.1132964  164.72260292 166.44491007\n",
            " 164.39308526 162.03992174 173.94698819 170.94054687 174.30203447\n",
            " 158.84732978 169.90872346 161.74126241 166.5525761  174.17774333\n",
            " 160.80530095 174.1569211  173.88339333 164.51755945 172.07207498\n",
            " 159.27329599 171.72968429 170.37969366 163.8838887  169.99298835\n",
            " 162.94594806 164.59993534 171.77910974 172.89332053 166.48089026\n",
            " 157.21135909 173.66931265 163.0380153  170.86177926 162.08908841\n",
            " 174.56762767 170.10456309 171.07085527 159.03146623 172.04789259\n",
            " 172.57054483 160.47896425 174.21929568 173.49567424 172.28786837\n",
            " 159.092314   173.34196474 169.33369515 164.72260292 166.22707731\n",
            " 171.50509824 166.04294086 164.76325587 171.58035882 171.19996926\n",
            " 161.74126241 174.26072582 166.48089026 172.3353768  167.51965835\n",
            " 165.08432361 162.57154096 171.4041212  168.23551036 168.51818682\n",
            " 169.71012266 159.21322666 174.48643876 163.26558467 174.05234573\n",
            " 159.56985931 172.31164261 169.73866622 174.11518407 169.42146015\n",
            " 166.40883774 172.61711095 162.1869099  171.77910974 167.1132964\n",
            " 164.26750133 170.91433991 174.4660682  174.34322233 160.47896425\n",
            " 173.14184119 158.90897644 167.55299858 166.15371132 168.23551036\n",
            " 161.17671103 162.28405675 174.28139529 164.59993534 157.34946056\n",
            " 174.01029723 169.79558038 157.14179728 174.60804732 163.57812891\n",
            " 170.62279871 169.96495602 168.14001008 168.01166078 167.65254837\n",
            " 158.34419639 168.1719155  170.67625698 173.6261033  165.93129243\n",
            " 169.68152116 164.59993534 162.1869099  158.84732978 174.09426909\n",
            " 165.81875198 168.61116562 158.40807966 163.62221732 160.20112018\n",
            " 165.43698776 159.33311025 161.17671103 171.4041212  173.64772454\n",
            " 172.7097839  169.9368678  158.15078963 169.59536653 173.18655944\n",
            " 157.95469035 166.90563312 171.12264296 169.76715204 173.77675968\n",
            " 165.12394737 173.45192813 168.76477933 162.1869099  167.1818427\n",
            " 168.61116562 159.86030749 164.05567422 164.35134823 168.64202267] [177.31146452 163.75781746 162.35644036 172.38303229 161.6927261\n",
            " 167.02854867 172.83838466 163.96964458 168.28238408 175.0377644\n",
            " 164.53626068 174.27482972 161.63080847 163.32436057 168.35956913\n",
            " 168.55070148 173.44138962 176.09876808 165.92922056 170.5639225\n",
            " 176.18736106 173.62796503 175.18077312 175.01378782 175.6930564\n",
            " 166.24577854 169.88981122 167.96934369 173.06065732 171.39464431\n",
            " 176.34107056 175.5782535  169.88981122 176.91871932 171.36358314\n",
            " 170.8570571  160.26340318 168.96228086 170.23089901 169.0358384\n",
            " 162.29737848 162.29737848 175.25173668 176.6435474  168.00885631\n",
            " 171.97215456 168.20477376 171.57958663 169.64603836 169.21806911\n",
            " 175.08559548 160.0567554  167.32158646 174.24951752 165.65210531\n",
            " 168.24363237 160.19485688 169.95869272 167.56799924 169.29030638\n",
            " 167.23848158 164.88531806 176.79238451 173.78594319 177.14743079\n",
            " 161.6927261  172.75411978 164.58665872 169.39797242 177.02313965\n",
            " 163.65069727 177.00231742 176.72878965 167.36295577 174.9174713\n",
            " 162.11869231 174.57508061 173.22508998 166.72928502 172.83838466\n",
            " 165.79134437 167.44533166 174.62450606 175.73871685 169.32628658\n",
            " 160.0567554  176.51470897 165.88341161 173.70717558 164.93448473\n",
            " 177.41302399 172.94995941 173.91625158 161.87686255 174.89328891\n",
            " 175.41594115 163.32436057 177.064692   176.34107056 175.13326469\n",
            " 161.93771032 176.18736106 172.17909147 167.56799924 169.07247363\n",
            " 174.35049456 168.88833718 167.60865219 174.42575514 174.04536557\n",
            " 164.58665872 177.10612214 169.32628658 175.18077312 170.36505467\n",
            " 167.92971993 165.41693728 174.24951752 171.08090668 171.36358314\n",
            " 172.55551898 162.05862297 177.33183507 166.11098098 176.89774205\n",
            " 162.41525563 175.15703893 172.58406253 176.96058038 172.26685647\n",
            " 169.25423405 175.46250726 165.03230622 174.62450606 169.95869272\n",
            " 167.11289765 173.75973622 177.31146452 177.18861864 163.32436057\n",
            " 175.98723751 161.75437275 170.39839489 168.99910764 171.08090668\n",
            " 164.02210735 165.12945307 177.12679161 167.44533166 160.19485688\n",
            " 176.85569354 172.6409767  159.9871936  177.45344364 166.42352522\n",
            " 173.46819503 172.81035234 170.9854064  170.8570571  170.49794469\n",
            " 161.18959271 171.01731182 173.5216533  176.47149961 168.77668874\n",
            " 172.52691748 167.44533166 165.03230622 161.6927261  176.9396654\n",
            " 168.6641483  171.45656194 161.25347598 166.46761364 163.0465165\n",
            " 168.28238408 162.17850657 164.02210735 174.24951752 176.49312086\n",
            " 175.55518021 172.78226412 160.99618595 172.44076285 176.03195576\n",
            " 160.80008667 169.75102943 173.96803928 172.61254836 176.622156\n",
            " 167.96934369 176.29732444 171.61017565 165.03230622 170.02723902\n",
            " 171.45656194 162.70570381 166.90107053 167.19674455 171.48741899] [187.10512569 173.55147864 172.15010153 182.17669346 171.48638728\n",
            " 176.82220984 182.63204584 173.76330575 178.07604525 184.83142558\n",
            " 174.32992186 184.0684909  171.42446965 173.11802175 178.15323031\n",
            " 178.34436265 183.2350508  185.89242926 175.72288173 180.35758368\n",
            " 185.98102224 183.42162621 184.9744343  184.807449   185.48671757\n",
            " 176.03943972 179.6834724  177.76300487 182.8543185  181.18830549\n",
            " 186.13473173 185.37191467 179.6834724  186.7123805  181.15724431\n",
            " 180.65071828 170.05706436 178.75594203 180.02456019 178.82949958\n",
            " 172.09103965 172.09103965 185.04539786 186.43720858 177.80251748\n",
            " 181.76581574 177.99843493 181.37324781 179.43969953 179.01173029\n",
            " 184.87925665 169.85041658 177.11524764 184.04317869 175.44576648\n",
            " 178.03729354 169.98851806 179.75235389 177.36166041 179.08396756\n",
            " 177.03214275 174.67897923 186.58604568 183.57960436 186.94109196\n",
            " 171.48638728 182.54778096 174.3803199  179.19163359 186.81680082\n",
            " 173.44435845 186.79597859 186.52245082 177.15661694 184.71113247\n",
            " 171.91235348 184.36874179 183.01875116 176.5229462  182.63204584\n",
            " 175.58500555 177.23899284 184.41816723 185.53237803 179.11994775\n",
            " 169.85041658 186.30837014 175.67707279 183.50083675 174.72814591\n",
            " 187.20668516 182.74362058 183.70991276 171.67052372 184.68695008\n",
            " 185.20960232 173.11802175 186.85835318 186.13473173 184.92692586\n",
            " 171.7313715  185.98102224 181.97275265 177.36166041 178.8661348\n",
            " 184.14415574 178.68199836 177.40231336 184.21941631 183.83902675\n",
            " 174.3803199  186.89978332 179.11994775 184.9744343  180.15871585\n",
            " 177.72338111 175.21059846 184.04317869 180.87456785 181.15724431\n",
            " 182.34918016 171.85228415 187.12549625 175.90464216 186.69140322\n",
            " 172.20891681 184.95070011 182.37772371 186.75424156 182.06051765\n",
            " 179.04789523 185.25616844 174.82596739 184.41816723 179.75235389\n",
            " 176.90655882 183.5533974  187.10512569 186.98227982 173.11802175\n",
            " 185.78089869 171.54803393 180.19205607 178.79276882 180.87456785\n",
            " 173.81576852 174.92311425 186.92045278 177.23899284 169.98851806\n",
            " 186.64935472 182.43463788 169.78085477 187.24710481 176.2171864\n",
            " 183.26185621 182.60401352 180.77906757 180.65071828 180.29160587\n",
            " 170.98325388 180.81097299 183.31531448 186.26516079 178.57034992\n",
            " 182.32057865 177.23899284 174.82596739 171.48638728 186.73332658\n",
            " 178.45780947 181.25022312 171.04713715 176.26127482 172.84017768\n",
            " 178.07604525 171.97216775 173.81576852 184.04317869 186.28678204\n",
            " 185.34884139 182.5759253  170.78984712 182.23442403 185.82561694\n",
            " 170.59374784 179.54469061 183.76170046 182.40620954 186.41581717\n",
            " 177.76300487 186.09098562 181.40383683 174.82596739 179.8209002\n",
            " 181.25022312 172.49936498 176.69473171 176.99040572 181.28108017]\n"
          ],
          "name": "stdout"
        }
      ]
    },
    {
      "cell_type": "code",
      "metadata": {
        "colab": {
          "base_uri": "https://localhost:8080/",
          "height": 279
        },
        "id": "0OsUiK-nugKp",
        "outputId": "6caa94fc-4778-4f4e-a2e9-bda89ea6c449"
      },
      "source": [
        "plt.figure()\r\n",
        "plt.plot(d,LpUrban700)\r\n",
        "plt.plot(d,LpUrban900)\r\n",
        "plt.plot(d,LpUrban1800)\r\n",
        "plt.xlabel('Jarak (m)')\r\n",
        "plt.ylabel('Path Loss (dB)')\r\n",
        "plt.show()"
      ],
      "execution_count": 36,
      "outputs": [
        {
          "output_type": "display_data",
          "data": {
            "image/png": "[encoded data removed]",
            "text/plain": [
              "<Figure size 432x288 with 1 Axes>"
            ]
          },
          "metadata": {
            "tags": [],
            "needs_background": "light"
          }
        }
      ]
    },
    {
      "cell_type": "code",
      "metadata": {
        "id": "9kpt9qlXugN2"
      },
      "source": [
        "d_sort=d[np.argsort(d)]\r\n",
        "Urban_sort1=LpUrban700[np.argsort(d)]\r\n",
        "Urban_sort2=LpUrban900[np.argsort(d)]\r\n",
        "Urban_sort3=LpUrban1800[np.argsort(d)]"
      ],
      "execution_count": 37,
      "outputs": []
    },
    {
      "cell_type": "code",
      "metadata": {
        "colab": {
          "base_uri": "https://localhost:8080/",
          "height": 295
        },
        "id": "cE0xfc9BugQj",
        "outputId": "39898f82-ad17-4771-d0e5-61b03e4411bd"
      },
      "source": [
        "plt.figure()\r\n",
        "plt.plot(d_sort,Urban_sort1, label='700MHz')\r\n",
        "plt.plot(d_sort,Urban_sort2, label='900MHz')\r\n",
        "plt.plot(d_sort,Urban_sort3, label='1800MHz')\r\n",
        "plt.legend()\r\n",
        "plt.title('MODEL URBAN (700MHz, 900MHz, 1800MHz)')\r\n",
        "plt.xlabel('Jarak (m)')\r\n",
        "plt.ylabel('Path Loss (dB)')\r\n",
        "plt.show()"
      ],
      "execution_count": 38,
      "outputs": [
        {
          "output_type": "display_data",
          "data": {
            "image/png": "[encoded data removed]",
            "text/plain": [
              "<Figure size 432x288 with 1 Axes>"
            ]
          },
          "metadata": {
            "tags": [],
            "needs_background": "light"
          }
        }
      ]
    }
  ]
}